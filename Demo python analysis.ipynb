{
 "cells": [
  {
   "cell_type": "markdown",
   "metadata": {},
   "source": [
    "*This document demonstrates how one can use python for analysis, and notebooks as environement for preliminary analysis*"
   ]
  },
  {
   "cell_type": "markdown",
   "metadata": {},
   "source": [
    "# Importing libraries\n",
    "\n",
    "(similar to `#include` in C++)\n"
   ]
  },
  {
   "cell_type": "code",
   "execution_count": 100,
   "metadata": {
    "collapsed": true
   },
   "outputs": [],
   "source": [
    "# First, import generic libraries for plot, ...\n",
    "\n",
    "%matplotlib inline\n",
    "import matplotlib.pyplot as plt\n",
    "import numpy as np"
   ]
  },
  {
   "cell_type": "code",
   "execution_count": 101,
   "metadata": {
    "collapsed": false
   },
   "outputs": [],
   "source": [
    "# then, import Histogram and TNTFile reader\n",
    "\n",
    "from pytnt.TNTFileReader import TNTFileReader as tntreader\n",
    "from pyHist.histogram import Histogram as hist"
   ]
  },
  {
   "cell_type": "markdown",
   "metadata": {},
   "source": [
    "# Defining parameters for histograms\n",
    "\n",
    "number of bins, limits, ...."
   ]
  },
  {
   "cell_type": "code",
   "execution_count": 102,
   "metadata": {
    "collapsed": true
   },
   "outputs": [],
   "source": [
    "tof_nbins = 3500\n",
    "tof_min = 0.\n",
    "tof_max = 7000.\n",
    "\n",
    "egamma_nbins = 17500\n",
    "egamma_min = -35000.\n",
    "egamma_max = 35000."
   ]
  },
  {
   "cell_type": "markdown",
   "metadata": {},
   "source": [
    "# List of files to read"
   ]
  },
  {
   "cell_type": "code",
   "execution_count": 103,
   "metadata": {
    "collapsed": false
   },
   "outputs": [
    {
     "name": "stdout",
     "output_type": "stream",
     "text": [
      "['/work/ghenning/W_analysis/data/efficacite-we-18-19/Card0105_0001.evt', '/work/ghenning/W_analysis/data/efficacite-we-18-19/Card0105_0002.evt', '/work/ghenning/W_analysis/data/efficacite-we-18-19/Card0105_0003.evt', '/work/ghenning/W_analysis/data/efficacite-we-18-19/Card0105_0004.evt']\n"
     ]
    }
   ],
   "source": [
    "N_files = 4 # max = 35\n",
    "\n",
    "input_files = [\"/work/ghenning/W_analysis/data/efficacite-we-18-19/Card0105_{0:04}.evt\".format(i) \n",
    "               for i in range(1,N_files+1)]\n",
    "               \n",
    "print(input_files)\n"
   ]
  },
  {
   "cell_type": "markdown",
   "metadata": {},
   "source": [
    "# Define the histograms in lists"
   ]
  },
  {
   "cell_type": "code",
   "execution_count": 104,
   "metadata": {
    "collapsed": false
   },
   "outputs": [],
   "source": [
    "## Time histograms\n",
    "tof_histograms = [\n",
    "    hist(), # index 0: empty\n",
    "    hist(tof_nbins, tof_min, tof_max),\n",
    "    hist(tof_nbins, tof_min, tof_max),\n",
    "    hist(tof_nbins, tof_min, tof_max),\n",
    "    hist(tof_nbins, tof_min, tof_max),\n",
    "]\n",
    "\n",
    "## Energy histogram\n",
    "energy_histograms = [\n",
    "    hist(),\n",
    "    hist(egamma_nbins, egamma_min, egamma_max),\n",
    "    hist(egamma_nbins, egamma_min, egamma_max),\n",
    "    hist(egamma_nbins, egamma_min, egamma_max),\n",
    "    hist(egamma_nbins, egamma_min, egamma_max),\n",
    "]\n",
    "\n",
    "## Channels distribution\n",
    "channels = hist(6, 0.5, 6.5)"
   ]
  },
  {
   "cell_type": "markdown",
   "metadata": {},
   "source": [
    "# Now, the main reading loop: \n",
    "\n",
    "For each file, read all events in file, fill (the fast way) the corresponding histrogram"
   ]
  },
  {
   "cell_type": "code",
   "execution_count": 105,
   "metadata": {
    "collapsed": false
   },
   "outputs": [
    {
     "name": "stdout",
     "output_type": "stream",
     "text": [
      "# Reading file \"/work/ghenning/W_analysis/data/efficacite-we-18-19/Card0105_0001.evt\" \n",
      "# Reading file \"/work/ghenning/W_analysis/data/efficacite-we-18-19/Card0105_0002.evt\" \n",
      "# Reading file \"/work/ghenning/W_analysis/data/efficacite-we-18-19/Card0105_0003.evt\" \n",
      "# Reading file \"/work/ghenning/W_analysis/data/efficacite-we-18-19/Card0105_0004.evt\" \n",
      "... Done\n"
     ]
    }
   ],
   "source": [
    "## Main Loop: reading the raw event file \n",
    "for inf in input_files:\n",
    "    # Looping on event\n",
    "    print('# Reading file \"{0}\" '.format(inf))\n",
    "    for ev in tntreader(inf):\n",
    "        if ev.channel==6:\n",
    "            last_sync = ev.timestamp\n",
    "            continue\n",
    "        ev.tof=ev.timestamp-last_sync\n",
    "        #\n",
    "        channels.fast_fill(ev.channel)\n",
    "        energy_histograms[ev.channel].fast_fill(ev.energy)\n",
    "        tof_histograms[ev.channel].fast_fill(ev.tof)\n",
    "        pass\n",
    "    #end for event (in file)\n",
    "    pass\n",
    "#end for input_file\n",
    "\n",
    "print(\"... Done\")"
   ]
  },
  {
   "cell_type": "markdown",
   "metadata": {},
   "source": [
    "# Checking...\n",
    "\n",
    "`channel` histogram contains the number of counts per histogram:"
   ]
  },
  {
   "cell_type": "code",
   "execution_count": 106,
   "metadata": {
    "collapsed": false
   },
   "outputs": [
    {
     "name": "stdout",
     "output_type": "stream",
     "text": [
      "# nbins = 6\n",
      "# xmin = 0.5\n",
      "# xmax = 6.5\n",
      "0.5 1.0 11205770  \n",
      "1.5 1.0 5470014  \n",
      "2.5 1.0 7327212  \n",
      "3.5 1.0 5957196  \n",
      "4.5 1.0 0  \n",
      "5.5 1.0 0  \n",
      "# out of range = 0\n",
      "\n"
     ]
    }
   ],
   "source": [
    "print(channels)"
   ]
  },
  {
   "cell_type": "code",
   "execution_count": 107,
   "metadata": {
    "collapsed": false
   },
   "outputs": [
    {
     "name": "stdout",
     "output_type": "stream",
     "text": [
      "(11205770.0, 0)\n"
     ]
    }
   ],
   "source": [
    "# checking consitency (for exmaple channel 1)\n",
    "print(sum(energy_histograms[1]), energy_histograms[1].outofrange)"
   ]
  },
  {
   "cell_type": "markdown",
   "metadata": {},
   "source": [
    "# Saving histogram to files"
   ]
  },
  {
   "cell_type": "code",
   "execution_count": 108,
   "metadata": {
    "collapsed": false
   },
   "outputs": [],
   "source": [
    "# Just `dumping` histogram to a file.\n",
    "\n",
    "for i in (1,2,3,4):\n",
    "    open(\"tof_chan{0}.hist.txt\".format(i), 'w').write(str(tof_histograms[i]))\n",
    "    open(\"energy_chan{0}.hist.txt\".format(i), 'w').write(str(energy_histograms[i]))"
   ]
  },
  {
   "cell_type": "code",
   "execution_count": 109,
   "metadata": {
    "collapsed": false
   },
   "outputs": [
    {
     "name": "stdout",
     "output_type": "stream",
     "text": [
      "# nbins = 17500\n",
      "# xmin = -35000.0\n",
      "# xmax = 35000.0\n",
      "-35000.0 4.0 0  \n",
      "-34996.0 4.0 0  \n",
      "-34992.0 4.0 0  \n",
      "-34988.0 4.0 0  \n",
      "-34984.0 4.0 0  \n",
      "-34980.0 4.0 0  \n",
      "-34976.0 4.0 0  \n",
      "-34972.0 4.0 0  \n",
      "-34968.0 4.0 0  \n",
      "-34964.0 4.0 0  \n",
      "-34960.0 4.0 0  \n",
      "-34956.0 4.0 0  \n",
      "-34952.0 4.0 0  \n",
      "-34948.0 4.0 0  \n",
      "-34944.0 4.0 0  \n",
      "-34940.0 4.0 0  \n",
      "-34936.0 4.0 0  \n",
      "-34932.0 4.0 0  \n",
      "-34928.0 4.0 0  \n",
      "-34924.0 4.0 0  \n",
      "-34920.0 \n"
     ]
    }
   ],
   "source": [
    "# Checking the file content:\n",
    "\n",
    "print(open(\"energy_chan1.hist.txt\").read()[:400])"
   ]
  },
  {
   "cell_type": "markdown",
   "metadata": {},
   "source": [
    "# Now, looking at a specific histogram\n",
    "\n",
    "We'll try to get the peak width at 122 keV"
   ]
  },
  {
   "cell_type": "code",
   "execution_count": 110,
   "metadata": {
    "collapsed": false
   },
   "outputs": [
    {
     "data": {
      "image/png": "[encoded data removed]",
      "text/plain": [
       "<matplotlib.figure.Figure at 0xf0ee006c>"
      ]
     },
     "metadata": {},
     "output_type": "display_data"
    }
   ],
   "source": [
    "# Selecting channel 1\n",
    "h = energy_histograms[1]\n",
    "\n",
    "# Cleaning empty bins:\n",
    "h.autocrop()\n",
    "\n",
    "# plotting\n",
    "plt.figure(figsize=(15,5))\n",
    "plt.step(*h.xy(), where='post')\n",
    "plt.xlabel(\"Energy bin [channel]\")\n",
    "plt.show()"
   ]
  },
  {
   "cell_type": "markdown",
   "metadata": {},
   "source": [
    "The 122 keV pic is located around 2000 channel... Zooming in with `slice`"
   ]
  },
  {
   "cell_type": "code",
   "execution_count": 111,
   "metadata": {
    "collapsed": false
   },
   "outputs": [
    {
     "data": {
      "image/png": "[encoded data removed]",
      "text/plain": [
       "<matplotlib.figure.Figure at 0xf118ec6c>"
      ]
     },
     "metadata": {},
     "output_type": "display_data"
    }
   ],
   "source": [
    "h_zoom1 = h.slice(200, 4000.)\n",
    "\n",
    "plt.figure(figsize=(15,5))\n",
    "plt.step(*h_zoom1.xy(), where='post')\n",
    "plt.xlabel(\"Energy bin [channel]\")\n",
    "plt.show()"
   ]
  },
  {
   "cell_type": "code",
   "execution_count": 112,
   "metadata": {
    "collapsed": false
   },
   "outputs": [
    {
     "data": {
      "image/png": "[encoded data removed]",
      "text/plain": [
       "<matplotlib.figure.Figure at 0xf0fedd6c>"
      ]
     },
     "metadata": {},
     "output_type": "display_data"
    }
   ],
   "source": [
    "# zooming even more:\n",
    "\n",
    "h_zoom2 = h.slice(2000., 2500.)\n",
    "\n",
    "plt.figure(figsize=(15,5))\n",
    "plt.step(*h_zoom2.xy(), where='post')\n",
    "plt.xlabel(\"Energy bin [channel]\")\n",
    "plt.show()"
   ]
  },
  {
   "cell_type": "code",
   "execution_count": 113,
   "metadata": {
    "collapsed": false
   },
   "outputs": [
    {
     "data": {
      "image/png": "[encoded data removed]",
      "text/plain": [
       "<matplotlib.figure.Figure at 0xf111242c>"
      ]
     },
     "metadata": {},
     "output_type": "display_data"
    }
   ],
   "source": [
    "# just the peak:\n",
    "\n",
    "h_122 = h.slice(2180., 2320.)\n",
    "\n",
    "plt.figure(figsize=(15,5))\n",
    "plt.step(*h_122.xy(), where='post')\n",
    "plt.xlabel(\"Energy bin [channel]\")\n",
    "plt.show()"
   ]
  },
  {
   "cell_type": "code",
   "execution_count": 114,
   "metadata": {
    "collapsed": true
   },
   "outputs": [],
   "source": [
    "# I don't want to modify the original histogram, so I make a copy:\n",
    "\n",
    "h_122 = h_122.copy()\n"
   ]
  },
  {
   "cell_type": "markdown",
   "metadata": {},
   "source": [
    "Removing constant background component:"
   ]
  },
  {
   "cell_type": "code",
   "execution_count": 115,
   "metadata": {
    "collapsed": false
   },
   "outputs": [
    {
     "name": "stdout",
     "output_type": "stream",
     "text": [
      "2320.0 4.0 2103.0 \n"
     ]
    }
   ],
   "source": [
    "bg_level = min(h_122)\n",
    "print(bg_level)"
   ]
  },
  {
   "cell_type": "code",
   "execution_count": 116,
   "metadata": {
    "collapsed": false
   },
   "outputs": [
    {
     "data": {
      "image/png": "[encoded data removed]",
      "text/plain": [
       "<matplotlib.figure.Figure at 0xf134f0ec>"
      ]
     },
     "metadata": {},
     "output_type": "display_data"
    }
   ],
   "source": [
    "h_122_bgrm = h_122 - float(bg_level)\n",
    "\n",
    "plt.figure(figsize=(15,5))\n",
    "plt.step(*h_122_bgrm.xy(), where='post')\n",
    "plt.xlabel(\"Energy bin [channel]\")\n",
    "plt.show()"
   ]
  },
  {
   "cell_type": "code",
   "execution_count": 117,
   "metadata": {
    "collapsed": false
   },
   "outputs": [
    {
     "name": "stdout",
     "output_type": "stream",
     "text": [
      "# nbins = 36\n",
      "# xmin = 2180.0\n",
      "# xmax = 2324.0\n",
      "2180.0 4.0 719.0  \n",
      "2184.0 4.0 683.0  \n",
      "2188.0 4.0 751.0  \n",
      "2192.0 4.0 818.0  \n",
      "2196.0 4.0 655.0  \n",
      "2200.0 4.0 739.0  \n",
      "2204.0 4.0 781.0  \n",
      "2208.0 4.0 918.0  \n",
      "2212.0 4.0 1316.0  \n",
      "2216.0 4.0 2419.0  \n",
      "2220.0 4.0 8290.0  \n",
      "2224.0 4.0 32854.0  \n",
      "2228.0 4.0 105143.0  \n",
      "2232.0 4.0 230573.0  \n",
      "2236.0 4.0 332871.0  \n",
      "2240.0 4.0 307608.0  \n",
      "2244.0 4.0 182713.0  \n",
      "2248.0 4.0 69660.0  \n",
      "2252.0 4.0 18055.0  \n",
      "2256.0 4.0 4044.0  \n",
      "2260.0 4.0 2194.0  \n",
      "2264.0 4.0 1715.0  \n",
      "2268.0 4.0 1161.0  \n",
      "2272.0 4.0 454.0  \n",
      "2276.0 4.0 246.0  \n",
      "2280.0 4.0 209.0  \n",
      "2284.0 4.0 104.0  \n",
      "2288.0 4.0 96.0  \n",
      "2292.0 4.0 96.0  \n",
      "2296.0 4.0 115.0  \n",
      "2300.0 4.0 80.0  \n",
      "2304.0 4.0 38.0  \n",
      "2308.0 4.0 119.0  \n",
      "2312.0 4.0 118.0  \n",
      "2316.0 4.0 93.0  \n",
      "2320.0 4.0 0.0  \n",
      "# out of range = 0\n",
      "\n"
     ]
    }
   ],
   "source": [
    "print(h_122_bgrm)"
   ]
  },
  {
   "cell_type": "code",
   "execution_count": 118,
   "metadata": {
    "collapsed": false
   },
   "outputs": [
    {
     "name": "stdout",
     "output_type": "stream",
     "text": [
      "Center of the maximum bin: 2238.0\n",
      "Mean bin center: 2239.14972548\n"
     ]
    }
   ],
   "source": [
    "# Evaluating the position of the peak:\n",
    "\n",
    "pos_max = max(h_122_bgrm).center()\n",
    "print(\"Center of the maximum bin: \"+str(pos_max))\n",
    "\n",
    "pos_mean = sum([b.center()*b.count for b in h_122_bgrm])/sum(h_122_bgrm)\n",
    "print(\"Mean bin center: \"+str(pos_mean))"
   ]
  },
  {
   "cell_type": "code",
   "execution_count": 119,
   "metadata": {
    "collapsed": false
   },
   "outputs": [
    {
     "name": "stdout",
     "output_type": "stream",
     "text": [
      "Peak width (std dev): 7.30849083579\n",
      "  -> FWHM: 17.2101803899\n"
     ]
    }
   ],
   "source": [
    "# Evaluating the width of the peak: \n",
    "# (using sigma^2 = <x^2> - <x>^2)\n",
    "\n",
    "stddev_sq = sum([b.center()**2.*b.count for b in h_122_bgrm])/sum(h_122_bgrm)-pos_mean**2.\n",
    "stddev = stddev_sq**0.5\n",
    "\n",
    "print(\"Peak width (std dev): \"+str(stddev))\n",
    "\n",
    "fwhm = stddev*2.35482\n",
    "print(\"  -> FWHM: \"+str(fwhm))\n"
   ]
  },
  {
   "cell_type": "code",
   "execution_count": 120,
   "metadata": {
    "collapsed": false
   },
   "outputs": [
    {
     "name": "stdout",
     "output_type": "stream",
     "text": [
      "Relative FWHM: 0.768603376278 %\n"
     ]
    }
   ],
   "source": [
    "# Now putting things in relative:\n",
    "\n",
    "print(\"Relative FWHM: \"+str(fwhm/pos_mean*100.)+\" %\")"
   ]
  },
  {
   "cell_type": "markdown",
   "metadata": {},
   "source": [
    "The obtained value is close to the one we can guess from visual estimation: good"
   ]
  },
  {
   "cell_type": "code",
   "execution_count": 121,
   "metadata": {
    "collapsed": false
   },
   "outputs": [
    {
     "name": "stdout",
     "output_type": "stream",
     "text": [
      "Actual FWHM: 0.937696119059 keV\n"
     ]
    }
   ],
   "source": [
    "print(\"Actual FWHM: \"+str(122.*fwhm/pos_mean)+ \" keV\")"
   ]
  },
  {
   "cell_type": "code",
   "execution_count": null,
   "metadata": {
    "collapsed": true
   },
   "outputs": [],
   "source": []
  }
 ],
 "metadata": {
  "kernelspec": {
   "display_name": "Python 2",
   "language": "python",
   "name": "python2"
  },
  "language_info": {
   "codemirror_mode": {
    "name": "ipython",
    "version": 2
   },
   "file_extension": ".py",
   "mimetype": "text/x-python",
   "name": "python",
   "nbconvert_exporter": "python",
   "pygments_lexer": "ipython2",
   "version": "2.7.12"
  }
 },
 "nbformat": 4,
 "nbformat_minor": 1
}
